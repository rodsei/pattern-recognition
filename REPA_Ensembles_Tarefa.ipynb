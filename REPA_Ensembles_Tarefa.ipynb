{
  "nbformat": 4,
  "nbformat_minor": 0,
  "metadata": {
    "colab": {
      "name": "Reconhecimento de padrões - Ensembles - Tarefa.ipynb",
      "provenance": [],
      "collapsed_sections": [
        "6hJ77k6AH5mg",
        "MDFJcQZQqfRI",
        "UYNnxOENqF2x"
      ],
      "toc_visible": true,
      "authorship_tag": "ABX9TyM9A6rOi6DGdh+jHcPsvTcz",
      "include_colab_link": true
    },
    "kernelspec": {
      "name": "python3",
      "display_name": "Python 3"
    },
    "language_info": {
      "name": "python"
    }
  },
  "cells": [
    {
      "cell_type": "markdown",
      "metadata": {
        "id": "view-in-github",
        "colab_type": "text"
      },
      "source": [
        "<a href=\"https://colab.research.google.com/github/rodsei/pattern-recognition/blob/main/Reconhecimento_de_padr%C3%B5es_Ensembles_Tarefa.ipynb\" target=\"_parent\"><img src=\"https://colab.research.google.com/assets/colab-badge.svg\" alt=\"Open In Colab\"/></a>"
      ]
    },
    {
      "cell_type": "markdown",
      "metadata": {
        "id": "6hJ77k6AH5mg"
      },
      "source": [
        "# Atividade - Ensembles\n",
        "\n",
        "Em um Jupyter Notebook:\n",
        "\n",
        "- Use uma base de dados para classificação com pelo menos 1000 amostras;\n",
        "- Escolha pelo menos três algoritmos de classificação;\n",
        "- Combine os classificadores de duas formas diferentes:\n",
        "  - Voting\n",
        "  - Stacking\n",
        "- Use gridsearch (ou randomsearch) para ajustar tantos os classificadores fracos quanto o ensemble;\n",
        "- Coloque o Jupyter Notebook no seu GitHub.\n",
        "\n",
        "A entrega da tarefa é um link para o Jupyter Notebook no seu GitHub."
      ]
    },
    {
      "cell_type": "markdown",
      "metadata": {
        "id": "MDFJcQZQqfRI"
      },
      "source": [
        "# Descritivos"
      ]
    },
    {
      "cell_type": "markdown",
      "metadata": {
        "id": "UYNnxOENqF2x"
      },
      "source": [
        "## Tipos de Ensemble\n",
        "\n",
        "Votação\n",
        "  - Tipos de Votação: \n",
        "    - Hard \n",
        "    - Soft\n",
        "  - Tipos de algoritmos:\n",
        "    - Bagging\n",
        "    - Boosting\n",
        "\n",
        "Stacking\n",
        "\n",
        "## Como alcançar a diversidade\n",
        "\n",
        "- Algoritmos diferentes\n",
        "- Algoritmos com Hiperparâmetros diferentes\n",
        "- Dados de treinamento diferentes\n",
        "  - Amostras diferentes\n",
        "  - Características diferentes\n",
        "  - Amostras e características diferentes\n"
      ]
    },
    {
      "cell_type": "markdown",
      "metadata": {
        "id": "YbdfM47Z8qHC"
      },
      "source": [
        "# Execução da Atividade"
      ]
    },
    {
      "cell_type": "markdown",
      "metadata": {
        "id": "_vy2030_Ajee"
      },
      "source": [
        "## Download Database"
      ]
    },
    {
      "cell_type": "code",
      "metadata": {
        "id": "1YkDFgFsqD7g",
        "colab": {
          "base_uri": "https://localhost:8080/"
        },
        "outputId": "9751312c-17ed-41ed-808d-63120420b4ad"
      },
      "source": [
        "from sklearn.datasets import fetch_lfw_pairs\n",
        "dataset = fetch_lfw_pairs()\n",
        "X, y = dataset.data, dataset.target\n",
        "X.shape, y.shape"
      ],
      "execution_count": 18,
      "outputs": [
        {
          "output_type": "execute_result",
          "data": {
            "text/plain": [
              "((2200, 5828), (2200,))"
            ]
          },
          "metadata": {
            "tags": []
          },
          "execution_count": 18
        }
      ]
    },
    {
      "cell_type": "code",
      "metadata": {
        "colab": {
          "base_uri": "https://localhost:8080/"
        },
        "id": "RgX7H9HlNtyq",
        "outputId": "696b31cf-3bfb-446f-c437-0693d749db74"
      },
      "source": [
        "set(y), y.dtype"
      ],
      "execution_count": 19,
      "outputs": [
        {
          "output_type": "execute_result",
          "data": {
            "text/plain": [
              "({0, 1}, dtype('int64'))"
            ]
          },
          "metadata": {
            "tags": []
          },
          "execution_count": 19
        }
      ]
    },
    {
      "cell_type": "markdown",
      "metadata": {
        "id": "EwigZXBZAtxc"
      },
      "source": [
        "## Split Train & Test"
      ]
    },
    {
      "cell_type": "code",
      "metadata": {
        "colab": {
          "base_uri": "https://localhost:8080/"
        },
        "id": "Lm2Dotf3AikB",
        "outputId": "2597dc24-a124-4c42-988c-15634cf2e3e6"
      },
      "source": [
        "from sklearn.model_selection import train_test_split\n",
        "X_train, X_test, y_train, y_test = train_test_split(X, y, random_state=7)\n",
        "X_train.shape, X_test.shape, y_train.shape, y_test.shape"
      ],
      "execution_count": 21,
      "outputs": [
        {
          "output_type": "execute_result",
          "data": {
            "text/plain": [
              "((1650, 5828), (550, 5828), (1650,), (550,))"
            ]
          },
          "metadata": {
            "tags": []
          },
          "execution_count": 21
        }
      ]
    },
    {
      "cell_type": "markdown",
      "metadata": {
        "id": "KV5MTRCs8n1Q"
      },
      "source": [
        "## Classificadores"
      ]
    },
    {
      "cell_type": "code",
      "metadata": {
        "id": "84H-ka9BMU8K"
      },
      "source": [
        "from sklearn.model_selection import GridSearchCV"
      ],
      "execution_count": 22,
      "outputs": []
    },
    {
      "cell_type": "markdown",
      "metadata": {
        "id": "IlU9SK77CCP2"
      },
      "source": [
        "### KNN"
      ]
    },
    {
      "cell_type": "code",
      "metadata": {
        "colab": {
          "base_uri": "https://localhost:8080/"
        },
        "id": "38Tm-9BeCBYT",
        "outputId": "aab1ebd4-35d3-403f-a895-78e2c570f7e2"
      },
      "source": [
        "from sklearn.neighbors import KNeighborsClassifier\n",
        "\n",
        "model_knn = KNeighborsClassifier()\n",
        "model_knn.fit(X_train, y_train)\n",
        "\n",
        "knn_predict = model_knn.predict(X_test)\n",
        "\n",
        "knn_hits = knn_predict == y_test\n",
        "# knn_hits, \n",
        "sum(knn_hits)/len(knn_hits)"
      ],
      "execution_count": 29,
      "outputs": [
        {
          "output_type": "execute_result",
          "data": {
            "text/plain": [
              "0.6036363636363636"
            ]
          },
          "metadata": {
            "tags": []
          },
          "execution_count": 29
        }
      ]
    },
    {
      "cell_type": "markdown",
      "metadata": {
        "id": "SCNiD75JEnS4"
      },
      "source": [
        "### Random Forest"
      ]
    },
    {
      "cell_type": "code",
      "metadata": {
        "colab": {
          "base_uri": "https://localhost:8080/"
        },
        "id": "HtM4WbV3EbkK",
        "outputId": "40e22af7-610e-435c-d971-078df6b89da9"
      },
      "source": [
        "from sklearn.ensemble import RandomForestClassifier\n",
        "\n",
        "model_rf = RandomForestClassifier()\n",
        "model_rf.fit(X_train, y_train)\n",
        "\n",
        "rf_predict = model_rf.predict(X_test)\n",
        "\n",
        "rf_hits = rf_predict == y_test\n",
        "# rf_hits, \n",
        "sum(rf_hits)/len(rf_hits)"
      ],
      "execution_count": 28,
      "outputs": [
        {
          "output_type": "execute_result",
          "data": {
            "text/plain": [
              "0.6436363636363637"
            ]
          },
          "metadata": {
            "tags": []
          },
          "execution_count": 28
        }
      ]
    },
    {
      "cell_type": "markdown",
      "metadata": {
        "id": "3zB4ec7zFKR3"
      },
      "source": [
        "### Decision Tree"
      ]
    },
    {
      "cell_type": "code",
      "metadata": {
        "colab": {
          "base_uri": "https://localhost:8080/"
        },
        "id": "eQYEeKmJdXfX",
        "outputId": "07a18b75-71e7-4684-918c-263c9005abb4"
      },
      "source": [
        "from sklearn.tree import DecisionTreeClassifier\n",
        "\n",
        "model_tree = DecisionTreeClassifier()\n",
        "model_tree.fit(X_train, y_train)\n",
        "\n",
        "tree_predict = model_tree.predict(X_test)\n",
        "\n",
        "tree_hits = tree_predict == y_test\n",
        "# tree_hits, \n",
        "sum(tree_hits)/len(tree_hits)\n"
      ],
      "execution_count": 30,
      "outputs": [
        {
          "output_type": "execute_result",
          "data": {
            "text/plain": [
              "0.5563636363636364"
            ]
          },
          "metadata": {
            "tags": []
          },
          "execution_count": 30
        }
      ]
    },
    {
      "cell_type": "markdown",
      "metadata": {
        "id": "HGS4IC_VjUtZ"
      },
      "source": [
        "### Gaussian Naive Bayes"
      ]
    },
    {
      "cell_type": "code",
      "metadata": {
        "colab": {
          "base_uri": "https://localhost:8080/"
        },
        "id": "HP9epeWmjUEd",
        "outputId": "2ce9d3c1-fc95-4158-f83a-a43605c38315"
      },
      "source": [
        "from sklearn.naive_bayes import GaussianNB\n",
        "\n",
        "# print(GaussianNB().get_params().keys())\n",
        "\n",
        "gnb_params = {\n",
        "    'priors': [None],\n",
        "    'var_smoothing': [1e-09, 1e-07, 1e-05, 1e-03, 1e-01]\n",
        "}\n",
        "\n",
        "model_gnb = GridSearchCV(GaussianNB(), param_grid=gnb_params, cv=10, \n",
        "                      scoring=\"accuracy\", n_jobs= 30, verbose = 1)\n",
        "\n",
        "model_gnb.fit(X_train, y_train)\n",
        "\n",
        "gnb_predict = model_gnb.best_estimator_.predict(X_test)\n",
        "\n",
        "\n",
        "gnb_hits = gnb_predict == y_test\n",
        "# gnb_hits,\n",
        "sum(gnb_hits)/len(gnb_hits)"
      ],
      "execution_count": 35,
      "outputs": [
        {
          "output_type": "stream",
          "text": [
            "Fitting 10 folds for each of 5 candidates, totalling 50 fits\n"
          ],
          "name": "stdout"
        },
        {
          "output_type": "stream",
          "text": [
            "[Parallel(n_jobs=30)]: Using backend LokyBackend with 30 concurrent workers.\n",
            "[Parallel(n_jobs=30)]: Done  42 out of  50 | elapsed:    5.0s remaining:    1.0s\n",
            "[Parallel(n_jobs=30)]: Done  50 out of  50 | elapsed:    5.3s finished\n"
          ],
          "name": "stderr"
        },
        {
          "output_type": "execute_result",
          "data": {
            "text/plain": [
              "0.5272727272727272"
            ]
          },
          "metadata": {
            "tags": []
          },
          "execution_count": 35
        }
      ]
    },
    {
      "cell_type": "markdown",
      "metadata": {
        "id": "cRflRUSnnLAs"
      },
      "source": [
        "### Perceptron"
      ]
    },
    {
      "cell_type": "code",
      "metadata": {
        "colab": {
          "base_uri": "https://localhost:8080/"
        },
        "id": "z_rL6RIinM0a",
        "outputId": "f4380bd2-4d6a-44ae-ea63-7a26730f31a7"
      },
      "source": [
        "from sklearn.linear_model import Perceptron\n",
        "# print(Perceptron().get_params().keys())\n",
        "\n",
        "per_params = {\n",
        "    'penalty': ['l2','l1','elasticnet',None],\n",
        "    'shuffle': [True, False]\n",
        "}\n",
        "\n",
        "model_per = GridSearchCV(Perceptron(), param_grid=per_params, cv=3, \n",
        "                      scoring=\"accuracy\", n_jobs= 30, verbose=1)\n",
        "\n",
        "model_per.fit(X_train, y_train)\n",
        "\n",
        "per_predict = model_per.predict(X_test)\n",
        "per_hits = per_predict == y_test\n",
        "# per_hits, \n",
        "sum(per_hits)/len(per_hits)"
      ],
      "execution_count": 34,
      "outputs": [
        {
          "output_type": "stream",
          "text": [
            "dict_keys(['alpha', 'class_weight', 'early_stopping', 'eta0', 'fit_intercept', 'max_iter', 'n_iter_no_change', 'n_jobs', 'penalty', 'random_state', 'shuffle', 'tol', 'validation_fraction', 'verbose', 'warm_start'])\n",
            "Fitting 3 folds for each of 8 candidates, totalling 24 fits\n"
          ],
          "name": "stdout"
        },
        {
          "output_type": "stream",
          "text": [
            "[Parallel(n_jobs=30)]: Using backend LokyBackend with 30 concurrent workers.\n",
            "[Parallel(n_jobs=30)]: Done  15 out of  24 | elapsed:   26.2s remaining:   15.7s\n",
            "[Parallel(n_jobs=30)]: Done  24 out of  24 | elapsed:   32.5s finished\n"
          ],
          "name": "stderr"
        },
        {
          "output_type": "execute_result",
          "data": {
            "text/plain": [
              "0.5527272727272727"
            ]
          },
          "metadata": {
            "tags": []
          },
          "execution_count": 34
        }
      ]
    },
    {
      "cell_type": "markdown",
      "metadata": {
        "id": "AyRQ30BkF3QW"
      },
      "source": [
        "## Combinando os classificadores"
      ]
    },
    {
      "cell_type": "markdown",
      "metadata": {
        "id": "r0uQ-u7oF6mx"
      },
      "source": [
        "### Voting"
      ]
    },
    {
      "cell_type": "code",
      "metadata": {
        "id": "JB8r95-dFhd0",
        "colab": {
          "base_uri": "https://localhost:8080/"
        },
        "outputId": "8309692e-c08c-443d-8dbc-f37bc3609494"
      },
      "source": [
        "from sklearn.ensemble import VotingClassifier\n",
        "\n",
        "voting_params = {\n",
        "    'knn__n_neighbors': [3, 5],\n",
        "    'random_forest__n_estimators': [10,20],\n",
        "    'random_forest__max_features': [0.15, 0.3],\n",
        "    'random_forest__random_state': [7],\n",
        "    'decision_tree__splitter': ['random'],\n",
        "    'decision_tree__max_features': [0.15, 0.3],\n",
        "    'decision_tree__random_state': [7]\n",
        "}\n",
        "\n",
        "model_voting = VotingClassifier([\n",
        "    ('knn', KNeighborsClassifier()),\n",
        "    ('random_forest', RandomForestClassifier()),\n",
        "    ('decision_tree', DecisionTreeClassifier())\n",
        "],n_jobs=35)\n",
        "\n",
        "model_voting = GridSearchCV(model_voting, param_grid=voting_params, cv=3,\n",
        "                      scoring=\"accuracy\", n_jobs= 35, verbose=1)\n",
        "\n",
        "model_voting.fit(X_train, y_train)\n",
        "\n",
        "voting_predict = model_voting.predict(X_test)\n",
        "\n",
        "voting_hits = voting_predict == y_test\n",
        "# voting_hits, \n",
        "sum(voting_hits)/len(voting_hits)"
      ],
      "execution_count": 39,
      "outputs": [
        {
          "output_type": "stream",
          "text": [
            "Fitting 3 folds for each of 16 candidates, totalling 48 fits\n"
          ],
          "name": "stdout"
        },
        {
          "output_type": "stream",
          "text": [
            "[Parallel(n_jobs=35)]: Using backend LokyBackend with 35 concurrent workers.\n",
            "/usr/local/lib/python3.7/dist-packages/joblib/externals/loky/process_executor.py:691: UserWarning: A worker stopped while some jobs were given to the executor. This can be caused by a too short worker timeout or by a memory leak.\n",
            "  \"timeout or by a memory leak.\", UserWarning\n",
            "[Parallel(n_jobs=35)]: Done  28 out of  48 | elapsed: 10.7min remaining:  7.6min\n",
            "[Parallel(n_jobs=35)]: Done  48 out of  48 | elapsed: 13.6min finished\n"
          ],
          "name": "stderr"
        },
        {
          "output_type": "execute_result",
          "data": {
            "text/plain": [
              "0.6036363636363636"
            ]
          },
          "metadata": {
            "tags": []
          },
          "execution_count": 39
        }
      ]
    },
    {
      "cell_type": "markdown",
      "metadata": {
        "id": "s-EhAUAsv38v"
      },
      "source": [
        "### Stacking"
      ]
    },
    {
      "cell_type": "code",
      "metadata": {
        "colab": {
          "base_uri": "https://localhost:8080/"
        },
        "id": "8kTPXxodJJH4",
        "outputId": "0275be43-6f2a-4b75-b904-4bc0661b9a84"
      },
      "source": [
        "from sklearn.ensemble import StackingClassifier\n",
        "\n",
        "\n",
        "stack_params = {\n",
        "    'passthrough': [True, False],\n",
        "    'knn__n_neighbors': [3, 5],\n",
        "    # 'knn__n_jobs': [4],\n",
        "    'random_forest__n_estimators': [10,20],\n",
        "    'random_forest__max_features': [0.15, 0.3],\n",
        "    # 'random_forest__n_jobs': [4],\n",
        "    'random_forest__random_state': [7],\n",
        "    'decision_tree__splitter': ['random'],\n",
        "    'decision_tree__max_features': [0.15, 0.3],\n",
        "    'decision_tree__random_state': [7]\n",
        "}\n",
        "\n",
        "model_stack = StackingClassifier([\n",
        "    ('knn', KNeighborsClassifier()),\n",
        "    ('random_forest', RandomForestClassifier()),\n",
        "    ('decision_tree', DecisionTreeClassifier())\n",
        "], verbose= 1)\n",
        "\n",
        "\n",
        "\n",
        "model_stack = GridSearchCV(model_stack, param_grid=stack_params, cv=3, \n",
        "                      scoring=\"accuracy\", n_jobs= 35, verbose=1)\n",
        "\n",
        "model_stack.fit(X_train, y_train) \n",
        "\n",
        "stack_predict = model_stack.predict(X_test)\n",
        "\n",
        "stack_hits = stack_predict == y_test\n",
        "# stack_hits, \n",
        "sum(stack_hits)/len(stack_hits)"
      ],
      "execution_count": 36,
      "outputs": [
        {
          "output_type": "stream",
          "text": [
            "Fitting 3 folds for each of 32 candidates, totalling 96 fits\n"
          ],
          "name": "stdout"
        },
        {
          "output_type": "stream",
          "text": [
            "[Parallel(n_jobs=16)]: Using backend LokyBackend with 16 concurrent workers.\n",
            "[Parallel(n_jobs=16)]: Done  18 tasks      | elapsed: 24.2min\n",
            "[Parallel(n_jobs=16)]: Done  96 out of  96 | elapsed: 102.3min finished\n",
            "[Parallel(n_jobs=1)]: Using backend SequentialBackend with 1 concurrent workers.\n",
            "[Parallel(n_jobs=1)]: Done   5 out of   5 | elapsed:   34.1s finished\n",
            "[Parallel(n_jobs=1)]: Using backend SequentialBackend with 1 concurrent workers.\n",
            "[Parallel(n_jobs=1)]: Done   5 out of   5 | elapsed:  1.3min finished\n",
            "[Parallel(n_jobs=1)]: Using backend SequentialBackend with 1 concurrent workers.\n",
            "[Parallel(n_jobs=1)]: Done   5 out of   5 | elapsed:    1.5s finished\n"
          ],
          "name": "stderr"
        },
        {
          "output_type": "execute_result",
          "data": {
            "text/plain": [
              "0.6090909090909091"
            ]
          },
          "metadata": {
            "tags": []
          },
          "execution_count": 36
        }
      ]
    }
  ]
}
